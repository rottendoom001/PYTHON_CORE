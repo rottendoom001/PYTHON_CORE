{
 "cells": [
  {
   "cell_type": "markdown",
   "metadata": {},
   "source": [
    "# Image Classification Performed Using Conventional Machine Learning Algorithms #\n",
    "\n",
    "In this document, the performance of conventional classification algorithms (KNN, Logistic Regression, SVM, Decission Trees and Random Forest) is tested for a image classification problem. The images to classify belongs to 4 different documents: laboral contracts, Spanish ID cards, invoices and payrolls."
   ]
  },
  {
   "cell_type": "code",
   "execution_count": 1,
   "metadata": {
    "collapsed": true
   },
   "outputs": [],
   "source": [
    "import pandas as pd\n",
    "import numpy as np\n",
    "import pylab as pl\n",
    "import PIL\n",
    "from PIL import Image\n",
    "import os\n",
    "import base64\n",
    "# from StringIO import StringIO\n",
    "from io import StringIO\n",
    "from bs4 import BeautifulSoup\n",
    "import requests\n",
    "import re\n",
    "#import urllib2\n",
    "from sklearn.decomposition import RandomizedPCA, PCA\n",
    "from sklearn.neighbors import KNeighborsClassifier\n",
    "from sklearn import svm, neighbors, linear_model, tree\n",
    "from bs4 import BeautifulSoup\n",
    "#import cookielib\n",
    "import json\n",
    "from sklearn.metrics import adjusted_rand_score, accuracy_score\n",
    "import random\n",
    "from sklearn.ensemble import RandomForestClassifier\n",
    "from sklearn.utils.validation import check_array\n",
    "from itertools import chain\n",
    "from sklearn.neural_network import MLPClassifier\n",
    "import seaborn\n",
    "import matplotlib.pyplot as plt"
   ]
  },
  {
   "cell_type": "code",
   "execution_count": 2,
   "metadata": {
    "collapsed": true
   },
   "outputs": [],
   "source": [
    "%matplotlib inline"
   ]
  },
  {
   "cell_type": "markdown",
   "metadata": {},
   "source": [
    "## 1. Helper functions ##\n",
    "\n",
    "In this section, we define some helper functions we will use in the rest of the document."
   ]
  },
  {
   "cell_type": "code",
   "execution_count": 3,
   "metadata": {
    "collapsed": true
   },
   "outputs": [],
   "source": [
    "image_path = '/home/raul/GIT/tfm/Notebooks/conventional_algorithms/images/'\n",
    "def get_label(curr_path, label_list):\n",
    "    \"\"\"\n",
    "    Given a name of a file (curr_path), a specific label is returned. The\n",
    "    possible labels are specified in a list (label_list), and that label\n",
    "    which is included in the name of the file is returned\n",
    "    \"\"\"\n",
    "    label = None\n",
    "    for curr_label in label_list:\n",
    "        if curr_label in curr_path.split(\"/\")[-1]:\n",
    "            label = curr_label  \n",
    "    return label\n",
    "\n",
    "def get_extension(curr_path):\n",
    "    \"\"\"\n",
    "    Returns the extension of a file whose full path is specified in\n",
    "    the input \"curr_path\"\n",
    "    \"\"\"\n",
    "    extension = curr_path.split(\".\")[-1]\n",
    "    extension = \".\" + extension\n",
    "    return extension\n",
    "            \n",
    "def rename_files(files_dir, num_range, label_list):\n",
    "    \"\"\"\n",
    "    Rename all the files located in a directory specified by the input\n",
    "    \"files_dir\". The following pattern is considered for the initial files:\n",
    "        *) <path_including_label>_<num>.<extension>\n",
    "    The <path_including_label> chunk should include a label included in \n",
    "    the \"label_list\", which is an input of the function which contains\n",
    "    all the labels considered. The initial <num> is changed for a random\n",
    "    number whose limits are set by the \"num_range\" input. The <extension>\n",
    "    is kept.\n",
    "    \"\"\"\n",
    "    files = os.listdir(files_dir)\n",
    "    for curr_file in files:\n",
    "        curr_label = get_label(curr_file, label_list)\n",
    "        curr_ext = get_extension(curr_file)\n",
    "        new_num = random.randint(num_range[0], num_range[1])\n",
    "        new_name = curr_label + \"_\" + str(new_num) + curr_ext\n",
    "        curr_file = files_dir + curr_file\n",
    "        new_name = files_dir + new_name\n",
    "        os.rename(curr_file, new_name)\n",
    "        \n"
   ]
  },
  {
   "cell_type": "markdown",
   "metadata": {},
   "source": [
    "## 2. Importing the data Data ##\n",
    "\n",
    "Now, we will continue with the process in order to train some image clasiffiers. Our proposal is based on the [Content-based image classification in Python post](http://blog.yhat.com/posts/image-classification-in-Python.html). The first point to address is to transform the initial images in different formats (`.jpg`, `.png`, etc.) into numerical data that can be understood by the different ML algorithms. In order to do so, we will use primarly the functions `img_to_matrix` and `flatten_image` described below."
   ]
  },
  {
   "cell_type": "markdown",
   "metadata": {},
   "source": [
    "### 2.1 Helper functions for image transformation ###\n",
    "\n",
    "Here we specify some functions focused on the data loading process"
   ]
  },
  {
   "cell_type": "code",
   "execution_count": 4,
   "metadata": {
    "collapsed": true
   },
   "outputs": [],
   "source": [
    "#setup a standard image size; this will distort some images but will get everything into the same shape\n",
    "STANDARD_SIZE = (32, 32)\n",
    "\n",
    "def img_to_matrix(filename, verbose=False):\n",
    "    \"\"\"\n",
    "    Takes an image, defined by the input \"filename\" and turns it into \n",
    "    a numpy array of RGB pixels\n",
    "    \"\"\"\n",
    "    img = PIL.Image.open(filename)\n",
    "    if verbose==True:\n",
    "        print(\"changing size from %s to %s\" % (str(img.size), str(STANDARD_SIZE)))\n",
    "    img = img.resize(STANDARD_SIZE)\n",
    "    img = list(img.getdata())\n",
    "    img = list(chain.from_iterable(img))\n",
    "    img = np.array(img)\n",
    "    return img\n",
    "\n",
    "def flatten_image(img):\n",
    "    \"\"\"\n",
    "    Takes in an (m, n) numpy array and flattens it \n",
    "    into an array of shape (1, m * n)\n",
    "    \"\"\"\n",
    "    s = img.shape[0] * img.shape[1]\n",
    "    img_wide = img.reshape(1, s)\n",
    "    return img_wide[0]\n",
    "\n",
    "def filter_images(location, extension):\n",
    "    \"\"\"\n",
    "    Filters all the files located in a specific location deleting all \n",
    "    of them which don't have the specified location\n",
    "    \"\"\"\n",
    "    for file in os.listdir(location):\n",
    "        if not file.endswith(extension):\n",
    "            full_path = location + file\n",
    "            os.remove(full_path)\n"
   ]
  },
  {
   "cell_type": "markdown",
   "metadata": {},
   "source": [
    "### 2.2 Data inport and transformation ###\n",
    "\n",
    "In this section, we will import all the images performing the corresponding numerical transformation (RGB pixels). In order to to so, first the location of the images must be provided (`img_dir`). In addition, the possible *labels* (function `get_images`, Section I) has to be specified (`names`). As a result of these operations, the initial data will be saved in two variables: `data`, which is the numeric representation of the images, and `labels`, which stores all the labels of the imported images."
   ]
  },
  {
   "cell_type": "code",
   "execution_count": 5,
   "metadata": {},
   "outputs": [
    {
     "name": "stdout",
     "output_type": "stream",
     "text": [
      "Image number  0  loaded\n",
      "Image number  100  loaded\n",
      "Image number  200  loaded\n",
      "Image number  300  loaded\n",
      "Image number  400  loaded\n",
      "Image number  500  loaded\n",
      "Image number  600  loaded\n",
      "Image number  700  loaded\n",
      "Image number  800  loaded\n",
      "Image number  900  loaded\n",
      "Image number  1000  loaded\n"
     ]
    },
    {
     "name": "stderr",
     "output_type": "stream",
     "text": [
      "/home/raul/anaconda3/envs/deep_learning/lib/python3.6/site-packages/PIL/Image.py:2371: DecompressionBombWarning: Image size (126494020 pixels) exceeds limit of 89478485 pixels, could be decompression bomb DOS attack.\n",
      "  DecompressionBombWarning)\n"
     ]
    },
    {
     "name": "stdout",
     "output_type": "stream",
     "text": [
      "Image number  1100  loaded\n",
      "Image number  1200  loaded\n",
      "Image number  1300  loaded\n"
     ]
    },
    {
     "name": "stderr",
     "output_type": "stream",
     "text": [
      "/home/raul/anaconda3/envs/deep_learning/lib/python3.6/site-packages/PIL/TiffImagePlugin.py:709: UserWarning: Corrupt EXIF data.  Expecting to read 4 bytes but only got 0. \n",
      "  warnings.warn(str(msg))\n"
     ]
    },
    {
     "name": "stdout",
     "output_type": "stream",
     "text": [
      "Image number  1400  loaded\n",
      "Image number  1500  loaded\n",
      "Image number  1600  loaded\n",
      "Image number  1700  loaded\n",
      "Image number  1800  loaded\n",
      "Image number  1900  loaded\n",
      "Image number  2000  loaded\n",
      "Image number  2100  loaded\n",
      "Image number  2200  loaded\n"
     ]
    }
   ],
   "source": [
    "def get_data_labels(img_dir, names):\n",
    "    \"\"\"\n",
    "    Given the location of a set of images (img_dir) and the \n",
    "    possible labels that they may have (names), two different\n",
    "    outputs are provided:\n",
    "        *) data: numerical representation (RGB indexes) of the images\n",
    "        *) labels: labels of the images analysed\n",
    "    \"\"\"\n",
    "    images = [img_dir + f for f in os.listdir(img_dir)]\n",
    "    labels = []\n",
    "    data = []\n",
    "    counter = 0\n",
    "    for image in images:\n",
    "#         img = img_to_matrix(image)\n",
    "#         img = list(img)\n",
    "        try:\n",
    "            img = img_to_matrix(image)\n",
    "            img = list(img)\n",
    "            #img = flatten_image(img)\n",
    "            if len(img) == STANDARD_SIZE[0] * STANDARD_SIZE[1] * 3:\n",
    "                data.append(img)\n",
    "                if counter%100 == 0:\n",
    "                    print(\"Image number \", counter, \" loaded\")\n",
    "                labels.append(get_label(image, names)) \n",
    "        except:\n",
    "            print(image + \" couldn't be transformed\")\n",
    "            \n",
    "        counter += 1\n",
    "            \n",
    "    data = np.asarray(data)\n",
    "    return data, labels\n",
    "\n",
    "names = [\"dni\", \"nomina\", \"factura\", \"contrato\"]\n",
    "img_dir = \"/home/raul/ini_images/\"\n",
    "data, labels = get_data_labels(img_dir , names)"
   ]
  },
  {
   "cell_type": "markdown",
   "metadata": {},
   "source": [
    "We check that everything is working fine."
   ]
  },
  {
   "cell_type": "code",
   "execution_count": 6,
   "metadata": {},
   "outputs": [
    {
     "name": "stdout",
     "output_type": "stream",
     "text": [
      "2209 2209\n"
     ]
    }
   ],
   "source": [
    "print(len(data), len(labels))"
   ]
  },
  {
   "cell_type": "code",
   "execution_count": 7,
   "metadata": {},
   "outputs": [
    {
     "name": "stdout",
     "output_type": "stream",
     "text": [
      "(2209, 3072)\n"
     ]
    }
   ],
   "source": [
    "print(data.shape)"
   ]
  },
  {
   "cell_type": "markdown",
   "metadata": {},
   "source": [
    "## 3. Training process ##\n",
    "\n",
    "In this section, we will investigate the performance of different ML models: KNN, Logistic Regression, Decission Trees, Random Forest and SVM."
   ]
  },
  {
   "cell_type": "markdown",
   "metadata": {},
   "source": [
    "### 3.1 Define a training and test set ###\n",
    "\n",
    "The first thing to to is to divide our data into train and test, which will be used in this section and the followings."
   ]
  },
  {
   "cell_type": "code",
   "execution_count": 8,
   "metadata": {},
   "outputs": [
    {
     "data": {
      "text/plain": [
       "3072"
      ]
     },
     "execution_count": 8,
     "metadata": {},
     "output_type": "execute_result"
    }
   ],
   "source": [
    "def labels_to_numeric(labels, dict_data):\n",
    "    \"\"\"\n",
    "    A list of initial labels is transformed according to the keys \n",
    "    and values specified in the dict_data input\n",
    "    \"\"\"\n",
    "    num_labels = [dict_data[curr_label] for curr_label in labels]\n",
    "    return np.asarray(num_labels)\n",
    "\n",
    "\n",
    "def get_test_train(data, names, labels, dict_data, per_training = 0.7):\n",
    "    \"\"\"\n",
    "    Given a specific dataset where the explicative variables are \n",
    "    stored in the variable \"data\" and the corresponding response variables\n",
    "    in the variable \"names\", returns the corresponding train and test\n",
    "    data. By default, the ratio of training data (\"per_training\") is\n",
    "    set to 0.7\n",
    "    \"\"\"\n",
    "    is_train = np.random.uniform(0, 1, len(data)) <= per_training\n",
    "#     y = np.where(np.array(labels)==names[0], 1, 0)\n",
    "    y = labels_to_numeric(labels, dict_data)\n",
    "    train_x, train_y = data[is_train], y[is_train]\n",
    "    test_x, test_y = data[is_train==False], y[is_train==False]\n",
    "    \n",
    "    return train_x, train_y, test_x, test_y, y\n",
    "\n",
    "label_numeric_dict = {\"nomina\":0, \"dni\":1, \"factura\":2, \"contrato\":3}\n",
    "train_x, train_y, test_x, test_y, num_labels = get_test_train(data = data, names = names, \n",
    "                                                              labels = labels, \n",
    "                                                              dict_data = label_numeric_dict)\n",
    "\n",
    "train_x.shape[1]"
   ]
  },
  {
   "cell_type": "markdown",
   "metadata": {},
   "source": [
    "### 3.2 First insights into the data & dimension reduction\n",
    "\n",
    "Before actually training our classifer, we are going to take a look at out data. In order to visualize the \"distance\" between dthe studied images, we are going to perform a dimension reduction process in the data so 2 principal components are obtained for each observation. The next figure shows the result of this process."
   ]
  },
  {
   "cell_type": "code",
   "execution_count": 9,
   "metadata": {},
   "outputs": [
    {
     "data": {
      "image/png": "[encoded data removed]",
      "text/plain": [
       "<matplotlib.figure.Figure at 0x7f0b306acba8>"
      ]
     },
     "metadata": {},
     "output_type": "display_data"
    }
   ],
   "source": [
    "def get_2d_visualizaiton(data, names, num_labels, labels, image_path):\n",
    "    \"\"\"\n",
    "    Given a specific dataset where the explicative variables are \n",
    "    stored in the variable \"data\" and the corresponding response variables\n",
    "    in the variable \"names\", returns a 2d visualization of the partition of\n",
    "    that data taking into account 2 principal components\n",
    "    \"\"\"\n",
    "#     pca = RandomizedPCA(n_components=2)\n",
    "    pca = PCA(n_components=2)\n",
    "    X = pca.fit_transform(data)\n",
    "    df = pd.DataFrame({\"x\": X[:, 0], \"y\": X[:, 1], \"label\":labels})\n",
    "    colors = [\"red\", \"yellow\", \"green\", \"blue\"]\n",
    "    colors = colors[:len(names)]\n",
    "    for label, color in zip(df['label'].unique(), colors):\n",
    "        mask = df['label']==label\n",
    "        pl.scatter(df[mask]['x'], df[mask]['y'], c=color, label=label)\n",
    "    pl.legend()\n",
    "    pl.xlabel(\"Dimensión 1\")\n",
    "    pl.ylabel(\"Dimensión 2\")\n",
    "    pl.title(\"Clasificación de Documentos: Análisis Dimensional\")\n",
    "    plt.savefig(image_path+'pca_analysis.pdf')\n",
    "    \n",
    "get_2d_visualizaiton(data = data, names = names, \n",
    "                     num_labels = num_labels, labels = labels, image_path = image_path)"
   ]
  },
  {
   "cell_type": "markdown",
   "metadata": {},
   "source": [
    "As you can see, the image of DNIs is very well clasiffied, while the other 3 documents are somehow mixed."
   ]
  },
  {
   "cell_type": "markdown",
   "metadata": {},
   "source": [
    "### 3.3 Training the classifier ###\n",
    "\n",
    "In this section, we will train the different ML algorithms under study."
   ]
  },
  {
   "cell_type": "markdown",
   "metadata": {},
   "source": [
    "#### 3.3.1 Training the classifier: `KNN` ####"
   ]
  },
  {
   "cell_type": "code",
   "execution_count": 10,
   "metadata": {},
   "outputs": [
    {
     "data": {
      "text/plain": [
       "KNeighborsClassifier(algorithm='auto', leaf_size=30, metric='minkowski',\n",
       "           metric_params=None, n_jobs=1, n_neighbors=5, p=2,\n",
       "           weights='uniform')"
      ]
     },
     "execution_count": 10,
     "metadata": {},
     "output_type": "execute_result"
    }
   ],
   "source": [
    "knn_model = KNeighborsClassifier()\n",
    "knn_model.fit(train_x, train_y)"
   ]
  },
  {
   "cell_type": "markdown",
   "metadata": {},
   "source": [
    "#### 3.3.2 Training the classifier: `Logistic Regression (LR)` ####"
   ]
  },
  {
   "cell_type": "code",
   "execution_count": 11,
   "metadata": {},
   "outputs": [
    {
     "data": {
      "text/plain": [
       "LogisticRegression(C=100.0, class_weight=None, dual=False, fit_intercept=True,\n",
       "          intercept_scaling=1, max_iter=100, multi_class='ovr', n_jobs=1,\n",
       "          penalty='l2', random_state=None, solver='liblinear', tol=0.0001,\n",
       "          verbose=0, warm_start=False)"
      ]
     },
     "execution_count": 11,
     "metadata": {},
     "output_type": "execute_result"
    }
   ],
   "source": [
    "lr_model = linear_model.LogisticRegression(C=1e2)\n",
    "\n",
    "lr_model.fit(train_x, train_y)"
   ]
  },
  {
   "cell_type": "markdown",
   "metadata": {},
   "source": [
    "#### 3.3.3 Training the classifier: `Decission Trees` ####"
   ]
  },
  {
   "cell_type": "code",
   "execution_count": 12,
   "metadata": {},
   "outputs": [
    {
     "data": {
      "text/plain": [
       "DecisionTreeClassifier(class_weight=None, criterion='gini', max_depth=15,\n",
       "            max_features=None, max_leaf_nodes=5, min_impurity_split=1e-07,\n",
       "            min_samples_leaf=1, min_samples_split=2,\n",
       "            min_weight_fraction_leaf=0.0, presort=False, random_state=None,\n",
       "            splitter='best')"
      ]
     },
     "execution_count": 12,
     "metadata": {},
     "output_type": "execute_result"
    }
   ],
   "source": [
    "tree_model = tree.DecisionTreeClassifier(max_depth = 15, max_leaf_nodes=5)\n",
    "tree_model.fit(train_x, train_y)"
   ]
  },
  {
   "cell_type": "markdown",
   "metadata": {},
   "source": [
    "#### 3.3.4 Training the classifier: `Random Forest` ####"
   ]
  },
  {
   "cell_type": "code",
   "execution_count": 13,
   "metadata": {},
   "outputs": [
    {
     "data": {
      "text/plain": [
       "RandomForestClassifier(bootstrap=True, class_weight=None, criterion='gini',\n",
       "            max_depth=8, max_features=1, max_leaf_nodes=None,\n",
       "            min_impurity_split=1e-07, min_samples_leaf=1,\n",
       "            min_samples_split=2, min_weight_fraction_leaf=0.0,\n",
       "            n_estimators=3, n_jobs=1, oob_score=False, random_state=None,\n",
       "            verbose=0, warm_start=False)"
      ]
     },
     "execution_count": 13,
     "metadata": {},
     "output_type": "execute_result"
    }
   ],
   "source": [
    "forest_model = RandomForestClassifier(max_depth=8, n_estimators=3, max_features=1)\n",
    "forest_model.fit(train_x, train_y)"
   ]
  },
  {
   "cell_type": "markdown",
   "metadata": {},
   "source": [
    "#### 3.3.5 Training the classifier: `SVM` ####"
   ]
  },
  {
   "cell_type": "code",
   "execution_count": 14,
   "metadata": {},
   "outputs": [
    {
     "data": {
      "text/plain": [
       "SVC(C=100.0, cache_size=200, class_weight=None, coef0=0.0,\n",
       "  decision_function_shape=None, degree=3, gamma=0.001, kernel='rbf',\n",
       "  max_iter=-1, probability=False, random_state=None, shrinking=True,\n",
       "  tol=0.001, verbose=False)"
      ]
     },
     "execution_count": 14,
     "metadata": {},
     "output_type": "execute_result"
    }
   ],
   "source": [
    "svm_model = svm.SVC(gamma=0.001, C=100.)\n",
    "svm_model.fit(train_x, train_y)"
   ]
  },
  {
   "cell_type": "markdown",
   "metadata": {},
   "source": [
    "## 4. Testing ##\n",
    "\n",
    "In this section, the models obtained previousloy are tested against training and testing data."
   ]
  },
  {
   "cell_type": "code",
   "execution_count": 15,
   "metadata": {
    "collapsed": true
   },
   "outputs": [],
   "source": [
    "results_dict = {}\n",
    "columns = [\"train\", \"test\"]\n",
    "\n",
    "index = []\n",
    "results_dict[\"train\"] = []\n",
    "results_dict[\"test\"] = []"
   ]
  },
  {
   "cell_type": "markdown",
   "metadata": {},
   "source": [
    "### 4.1 Testing: `KNN` ###"
   ]
  },
  {
   "cell_type": "code",
   "execution_count": 16,
   "metadata": {
    "collapsed": true
   },
   "outputs": [],
   "source": [
    "pred_knn_test = knn_model.predict(test_x)\n",
    "pred_knn_train = knn_model.predict(train_x)"
   ]
  },
  {
   "cell_type": "code",
   "execution_count": 17,
   "metadata": {},
   "outputs": [
    {
     "data": {
      "text/html": [
       "<div>\n",
       "<style>\n",
       "    .dataframe thead tr:only-child th {\n",
       "        text-align: right;\n",
       "    }\n",
       "\n",
       "    .dataframe thead th {\n",
       "        text-align: left;\n",
       "    }\n",
       "\n",
       "    .dataframe tbody tr th {\n",
       "        vertical-align: top;\n",
       "    }\n",
       "</style>\n",
       "<table border=\"1\" class=\"dataframe\">\n",
       "  <thead>\n",
       "    <tr style=\"text-align: right;\">\n",
       "      <th>Predicted</th>\n",
       "      <th>0</th>\n",
       "      <th>1</th>\n",
       "      <th>2</th>\n",
       "      <th>3</th>\n",
       "    </tr>\n",
       "    <tr>\n",
       "      <th>Actual</th>\n",
       "      <th></th>\n",
       "      <th></th>\n",
       "      <th></th>\n",
       "      <th></th>\n",
       "    </tr>\n",
       "  </thead>\n",
       "  <tbody>\n",
       "    <tr>\n",
       "      <th>0</th>\n",
       "      <td>81</td>\n",
       "      <td>8</td>\n",
       "      <td>18</td>\n",
       "      <td>30</td>\n",
       "    </tr>\n",
       "    <tr>\n",
       "      <th>1</th>\n",
       "      <td>1</td>\n",
       "      <td>151</td>\n",
       "      <td>57</td>\n",
       "      <td>3</td>\n",
       "    </tr>\n",
       "    <tr>\n",
       "      <th>2</th>\n",
       "      <td>54</td>\n",
       "      <td>6</td>\n",
       "      <td>80</td>\n",
       "      <td>35</td>\n",
       "    </tr>\n",
       "    <tr>\n",
       "      <th>3</th>\n",
       "      <td>32</td>\n",
       "      <td>3</td>\n",
       "      <td>32</td>\n",
       "      <td>101</td>\n",
       "    </tr>\n",
       "  </tbody>\n",
       "</table>\n",
       "</div>"
      ],
      "text/plain": [
       "Predicted   0    1   2    3\n",
       "Actual                     \n",
       "0          81    8  18   30\n",
       "1           1  151  57    3\n",
       "2          54    6  80   35\n",
       "3          32    3  32  101"
      ]
     },
     "execution_count": 17,
     "metadata": {},
     "output_type": "execute_result"
    }
   ],
   "source": [
    "label_numeric_dict = {\"nomina\":0, \"dni\":1, \"factura\":2, \"contrato\":3}\n",
    "pd.crosstab(test_y, pred_knn_test, rownames=[\"Actual\"], colnames=[\"Predicted\"])"
   ]
  },
  {
   "cell_type": "markdown",
   "metadata": {},
   "source": [
    "Let's calculate the accuracy."
   ]
  },
  {
   "cell_type": "code",
   "execution_count": 18,
   "metadata": {},
   "outputs": [
    {
     "name": "stdout",
     "output_type": "stream",
     "text": [
      "Accuracy KNN test 0.596820809249 ; Accuracy KNN train  0.766644693474\n"
     ]
    }
   ],
   "source": [
    "acc_knn_test = accuracy_score(test_y, pred_knn_test)\n",
    "acc_knn_train = accuracy_score(train_y, pred_knn_train)\n",
    "\n",
    "print(\"Accuracy KNN test\", acc_knn_test, \"; Accuracy KNN train \", acc_knn_train)\n",
    "\n",
    "index += [\"knn\"]\n",
    "results_dict[\"train\"] += [acc_knn_train]\n",
    "results_dict[\"test\"] += [acc_knn_test]"
   ]
  },
  {
   "cell_type": "markdown",
   "metadata": {},
   "source": [
    "### 4.2 Testing: `Logistic Regression` ###"
   ]
  },
  {
   "cell_type": "code",
   "execution_count": 19,
   "metadata": {},
   "outputs": [
    {
     "data": {
      "text/html": [
       "<div>\n",
       "<style>\n",
       "    .dataframe thead tr:only-child th {\n",
       "        text-align: right;\n",
       "    }\n",
       "\n",
       "    .dataframe thead th {\n",
       "        text-align: left;\n",
       "    }\n",
       "\n",
       "    .dataframe tbody tr th {\n",
       "        vertical-align: top;\n",
       "    }\n",
       "</style>\n",
       "<table border=\"1\" class=\"dataframe\">\n",
       "  <thead>\n",
       "    <tr style=\"text-align: right;\">\n",
       "      <th>Predicted</th>\n",
       "      <th>0</th>\n",
       "      <th>1</th>\n",
       "      <th>2</th>\n",
       "      <th>3</th>\n",
       "    </tr>\n",
       "    <tr>\n",
       "      <th>Actual</th>\n",
       "      <th></th>\n",
       "      <th></th>\n",
       "      <th></th>\n",
       "      <th></th>\n",
       "    </tr>\n",
       "  </thead>\n",
       "  <tbody>\n",
       "    <tr>\n",
       "      <th>0</th>\n",
       "      <td>87</td>\n",
       "      <td>4</td>\n",
       "      <td>16</td>\n",
       "      <td>30</td>\n",
       "    </tr>\n",
       "    <tr>\n",
       "      <th>1</th>\n",
       "      <td>16</td>\n",
       "      <td>155</td>\n",
       "      <td>15</td>\n",
       "      <td>26</td>\n",
       "    </tr>\n",
       "    <tr>\n",
       "      <th>2</th>\n",
       "      <td>30</td>\n",
       "      <td>17</td>\n",
       "      <td>90</td>\n",
       "      <td>38</td>\n",
       "    </tr>\n",
       "    <tr>\n",
       "      <th>3</th>\n",
       "      <td>27</td>\n",
       "      <td>9</td>\n",
       "      <td>28</td>\n",
       "      <td>104</td>\n",
       "    </tr>\n",
       "  </tbody>\n",
       "</table>\n",
       "</div>"
      ],
      "text/plain": [
       "Predicted   0    1   2    3\n",
       "Actual                     \n",
       "0          87    4  16   30\n",
       "1          16  155  15   26\n",
       "2          30   17  90   38\n",
       "3          27    9  28  104"
      ]
     },
     "execution_count": 19,
     "metadata": {},
     "output_type": "execute_result"
    }
   ],
   "source": [
    "pred_lr_test = lr_model.predict(test_x)\n",
    "pred_lr_train = lr_model.predict(train_x)\n",
    "\n",
    "pd.crosstab(test_y, pred_lr_test, rownames=[\"Actual\"], colnames=[\"Predicted\"])"
   ]
  },
  {
   "cell_type": "code",
   "execution_count": 20,
   "metadata": {},
   "outputs": [
    {
     "name": "stdout",
     "output_type": "stream",
     "text": [
      "Accuracy LR test 0.630057803468 ; Accuracy LR train  0.998681608438\n"
     ]
    }
   ],
   "source": [
    "acc_lr_test = accuracy_score(test_y, pred_lr_test)\n",
    "acc_lr_train = accuracy_score(train_y, pred_lr_train)\n",
    "\n",
    "print(\"Accuracy LR test\", acc_lr_test, \"; Accuracy LR train \", acc_lr_train)\n",
    "\n",
    "index += [\"lr\"]\n",
    "results_dict[\"train\"] += [acc_lr_train]\n",
    "results_dict[\"test\"] += [acc_lr_test]"
   ]
  },
  {
   "cell_type": "markdown",
   "metadata": {},
   "source": [
    "### 4.3 Testing: `Decission Trees` ###"
   ]
  },
  {
   "cell_type": "code",
   "execution_count": 21,
   "metadata": {},
   "outputs": [
    {
     "data": {
      "text/html": [
       "<div>\n",
       "<style>\n",
       "    .dataframe thead tr:only-child th {\n",
       "        text-align: right;\n",
       "    }\n",
       "\n",
       "    .dataframe thead th {\n",
       "        text-align: left;\n",
       "    }\n",
       "\n",
       "    .dataframe tbody tr th {\n",
       "        vertical-align: top;\n",
       "    }\n",
       "</style>\n",
       "<table border=\"1\" class=\"dataframe\">\n",
       "  <thead>\n",
       "    <tr style=\"text-align: right;\">\n",
       "      <th>Predicted</th>\n",
       "      <th>0</th>\n",
       "      <th>1</th>\n",
       "      <th>2</th>\n",
       "      <th>3</th>\n",
       "    </tr>\n",
       "    <tr>\n",
       "      <th>Actual</th>\n",
       "      <th></th>\n",
       "      <th></th>\n",
       "      <th></th>\n",
       "      <th></th>\n",
       "    </tr>\n",
       "  </thead>\n",
       "  <tbody>\n",
       "    <tr>\n",
       "      <th>0</th>\n",
       "      <td>52</td>\n",
       "      <td>1</td>\n",
       "      <td>30</td>\n",
       "      <td>54</td>\n",
       "    </tr>\n",
       "    <tr>\n",
       "      <th>1</th>\n",
       "      <td>22</td>\n",
       "      <td>135</td>\n",
       "      <td>46</td>\n",
       "      <td>9</td>\n",
       "    </tr>\n",
       "    <tr>\n",
       "      <th>2</th>\n",
       "      <td>63</td>\n",
       "      <td>25</td>\n",
       "      <td>39</td>\n",
       "      <td>48</td>\n",
       "    </tr>\n",
       "    <tr>\n",
       "      <th>3</th>\n",
       "      <td>30</td>\n",
       "      <td>8</td>\n",
       "      <td>24</td>\n",
       "      <td>106</td>\n",
       "    </tr>\n",
       "  </tbody>\n",
       "</table>\n",
       "</div>"
      ],
      "text/plain": [
       "Predicted   0    1   2    3\n",
       "Actual                     \n",
       "0          52    1  30   54\n",
       "1          22  135  46    9\n",
       "2          63   25  39   48\n",
       "3          30    8  24  106"
      ]
     },
     "execution_count": 21,
     "metadata": {},
     "output_type": "execute_result"
    }
   ],
   "source": [
    "pred_tree_test = tree_model.predict(test_x)\n",
    "pred_tree_train = tree_model.predict(train_x)\n",
    "\n",
    "pd.crosstab(test_y, pred_tree_test, rownames=[\"Actual\"], colnames=[\"Predicted\"])"
   ]
  },
  {
   "cell_type": "code",
   "execution_count": 22,
   "metadata": {},
   "outputs": [
    {
     "name": "stdout",
     "output_type": "stream",
     "text": [
      "Accuracy Tree test 0.479768786127 ; Accuracy Tree train  0.601845748187\n"
     ]
    }
   ],
   "source": [
    "acc_tree_test = accuracy_score(test_y, pred_tree_test)\n",
    "acc_tree_train = accuracy_score(train_y, pred_tree_train)\n",
    "\n",
    "print(\"Accuracy Tree test\", acc_tree_test, \"; Accuracy Tree train \", acc_tree_train)\n",
    "\n",
    "index += [\"tree\"]\n",
    "results_dict[\"train\"] += [acc_tree_train]\n",
    "results_dict[\"test\"] += [acc_tree_test]"
   ]
  },
  {
   "cell_type": "markdown",
   "metadata": {},
   "source": [
    "### 4.4 Testing: `Random Forest` ###"
   ]
  },
  {
   "cell_type": "code",
   "execution_count": 23,
   "metadata": {},
   "outputs": [
    {
     "data": {
      "text/html": [
       "<div>\n",
       "<style>\n",
       "    .dataframe thead tr:only-child th {\n",
       "        text-align: right;\n",
       "    }\n",
       "\n",
       "    .dataframe thead th {\n",
       "        text-align: left;\n",
       "    }\n",
       "\n",
       "    .dataframe tbody tr th {\n",
       "        vertical-align: top;\n",
       "    }\n",
       "</style>\n",
       "<table border=\"1\" class=\"dataframe\">\n",
       "  <thead>\n",
       "    <tr style=\"text-align: right;\">\n",
       "      <th>Predicted</th>\n",
       "      <th>0</th>\n",
       "      <th>1</th>\n",
       "      <th>2</th>\n",
       "      <th>3</th>\n",
       "    </tr>\n",
       "    <tr>\n",
       "      <th>Actual</th>\n",
       "      <th></th>\n",
       "      <th></th>\n",
       "      <th></th>\n",
       "      <th></th>\n",
       "    </tr>\n",
       "  </thead>\n",
       "  <tbody>\n",
       "    <tr>\n",
       "      <th>0</th>\n",
       "      <td>53</td>\n",
       "      <td>3</td>\n",
       "      <td>35</td>\n",
       "      <td>46</td>\n",
       "    </tr>\n",
       "    <tr>\n",
       "      <th>1</th>\n",
       "      <td>5</td>\n",
       "      <td>180</td>\n",
       "      <td>17</td>\n",
       "      <td>10</td>\n",
       "    </tr>\n",
       "    <tr>\n",
       "      <th>2</th>\n",
       "      <td>26</td>\n",
       "      <td>33</td>\n",
       "      <td>74</td>\n",
       "      <td>42</td>\n",
       "    </tr>\n",
       "    <tr>\n",
       "      <th>3</th>\n",
       "      <td>17</td>\n",
       "      <td>5</td>\n",
       "      <td>32</td>\n",
       "      <td>114</td>\n",
       "    </tr>\n",
       "  </tbody>\n",
       "</table>\n",
       "</div>"
      ],
      "text/plain": [
       "Predicted   0    1   2    3\n",
       "Actual                     \n",
       "0          53    3  35   46\n",
       "1           5  180  17   10\n",
       "2          26   33  74   42\n",
       "3          17    5  32  114"
      ]
     },
     "execution_count": 23,
     "metadata": {},
     "output_type": "execute_result"
    }
   ],
   "source": [
    "pred_forest_test = forest_model.predict(test_x)\n",
    "pred_forest_train = forest_model.predict(train_x)\n",
    "\n",
    "pd.crosstab(test_y, pred_forest_test, rownames=[\"Actual\"], colnames=[\"Predicted\"])"
   ]
  },
  {
   "cell_type": "code",
   "execution_count": 24,
   "metadata": {},
   "outputs": [
    {
     "name": "stdout",
     "output_type": "stream",
     "text": [
      "Accuracy R. Forest test 0.60838150289 ; Accuracy R. Forest train  0.77587343441\n"
     ]
    }
   ],
   "source": [
    "acc_forest_test = accuracy_score(test_y, pred_forest_test)\n",
    "acc_forest_train = accuracy_score(train_y, pred_forest_train)\n",
    "\n",
    "print(\"Accuracy R. Forest test\", acc_forest_test, \"; Accuracy R. Forest train \", acc_forest_train)\n",
    "\n",
    "index += [\"forest\"]\n",
    "results_dict[\"train\"] += [acc_forest_train]\n",
    "results_dict[\"test\"] += [acc_forest_test]"
   ]
  },
  {
   "cell_type": "markdown",
   "metadata": {},
   "source": [
    "### 4.5 Testing: `SVM` ###"
   ]
  },
  {
   "cell_type": "code",
   "execution_count": 25,
   "metadata": {},
   "outputs": [
    {
     "data": {
      "text/html": [
       "<div>\n",
       "<style>\n",
       "    .dataframe thead tr:only-child th {\n",
       "        text-align: right;\n",
       "    }\n",
       "\n",
       "    .dataframe thead th {\n",
       "        text-align: left;\n",
       "    }\n",
       "\n",
       "    .dataframe tbody tr th {\n",
       "        vertical-align: top;\n",
       "    }\n",
       "</style>\n",
       "<table border=\"1\" class=\"dataframe\">\n",
       "  <thead>\n",
       "    <tr style=\"text-align: right;\">\n",
       "      <th>Predicted</th>\n",
       "      <th>0</th>\n",
       "      <th>1</th>\n",
       "      <th>2</th>\n",
       "      <th>3</th>\n",
       "    </tr>\n",
       "    <tr>\n",
       "      <th>Actual</th>\n",
       "      <th></th>\n",
       "      <th></th>\n",
       "      <th></th>\n",
       "      <th></th>\n",
       "    </tr>\n",
       "  </thead>\n",
       "  <tbody>\n",
       "    <tr>\n",
       "      <th>0</th>\n",
       "      <td>57</td>\n",
       "      <td>0</td>\n",
       "      <td>78</td>\n",
       "      <td>2</td>\n",
       "    </tr>\n",
       "    <tr>\n",
       "      <th>1</th>\n",
       "      <td>0</td>\n",
       "      <td>47</td>\n",
       "      <td>165</td>\n",
       "      <td>0</td>\n",
       "    </tr>\n",
       "    <tr>\n",
       "      <th>2</th>\n",
       "      <td>0</td>\n",
       "      <td>0</td>\n",
       "      <td>175</td>\n",
       "      <td>0</td>\n",
       "    </tr>\n",
       "    <tr>\n",
       "      <th>3</th>\n",
       "      <td>1</td>\n",
       "      <td>0</td>\n",
       "      <td>99</td>\n",
       "      <td>68</td>\n",
       "    </tr>\n",
       "  </tbody>\n",
       "</table>\n",
       "</div>"
      ],
      "text/plain": [
       "Predicted   0   1    2   3\n",
       "Actual                    \n",
       "0          57   0   78   2\n",
       "1           0  47  165   0\n",
       "2           0   0  175   0\n",
       "3           1   0   99  68"
      ]
     },
     "execution_count": 25,
     "metadata": {},
     "output_type": "execute_result"
    }
   ],
   "source": [
    "pred_svm_test = svm_model.predict(test_x)\n",
    "pred_svm_train = svm_model.predict(train_x)\n",
    "\n",
    "pd.crosstab(test_y, pred_svm_test, rownames=[\"Actual\"], colnames=[\"Predicted\"])"
   ]
  },
  {
   "cell_type": "code",
   "execution_count": 26,
   "metadata": {},
   "outputs": [
    {
     "name": "stdout",
     "output_type": "stream",
     "text": [
      "Accuracy SVM test 0.501445086705 ; Accuracy SVM train  0.998681608438\n"
     ]
    }
   ],
   "source": [
    "acc_svm_test = accuracy_score(test_y, pred_svm_test)\n",
    "acc_svm_train = accuracy_score(train_y, pred_svm_train)\n",
    "\n",
    "print(\"Accuracy SVM test\", acc_svm_test, \"; Accuracy SVM train \", acc_svm_train)\n",
    "\n",
    "index += [\"svm\"]\n",
    "results_dict[\"train\"] += [acc_svm_train]\n",
    "results_dict[\"test\"] += [acc_svm_test]"
   ]
  },
  {
   "cell_type": "markdown",
   "metadata": {
    "collapsed": true
   },
   "source": [
    "## 5 Summary ##\n",
    "\n",
    "### 5.1 Global accuracy ###\n",
    "\n",
    "In this section, we will compare the global accuracy of all the models."
   ]
  },
  {
   "cell_type": "code",
   "execution_count": 27,
   "metadata": {},
   "outputs": [
    {
     "name": "stdout",
     "output_type": "stream",
     "text": [
      "           train      test\n",
      "knn     0.766645  0.596821\n",
      "lr      0.998682  0.630058\n",
      "tree    0.601846  0.479769\n",
      "forest  0.775873  0.608382\n",
      "svm     0.998682  0.501445\n"
     ]
    }
   ],
   "source": [
    "df_results = pd.DataFrame(data = results_dict, columns = columns, index = index)\n",
    "print(df_results)"
   ]
  },
  {
   "cell_type": "code",
   "execution_count": 28,
   "metadata": {},
   "outputs": [
    {
     "data": {
      "image/png": "[encoded data removed]",
      "text/plain": [
       "<matplotlib.figure.Figure at 0x7f17d63d3c88>"
      ]
     },
     "metadata": {},
     "output_type": "display_data"
    }
   ],
   "source": [
    "comparison_plot = df_results.plot(kind=\"bar\", rot=0)\n",
    "comparison_plot.set_xlabel(\"Algoritmo\")\n",
    "comparison_plot.set_ylabel(\"Precisión\")\n",
    "comparison_plot.set_title(\"Clasificación de Documentos: Algoritmos Convencionales\")\n",
    "plt.savefig(image_path+'conventional_algorithms.pdf')"
   ]
  },
  {
   "cell_type": "markdown",
   "metadata": {},
   "source": [
    "As you can see, Logistic Regression and SVM suffer huge overfitting. In the other hand, Decission Trees shows the worse behaviour. KNN and Random Forest show a decent accuracy in testing without important overfitting."
   ]
  },
  {
   "cell_type": "markdown",
   "metadata": {},
   "source": [
    "### 5.2 Partial accuracy ###\n",
    "\n",
    "Now, we will study the accuracy per type of document. To perform this study, we chose the KNN model."
   ]
  },
  {
   "cell_type": "code",
   "execution_count": 29,
   "metadata": {
    "collapsed": true
   },
   "outputs": [],
   "source": [
    "final_result = df_results.loc[[\"knn\"]]"
   ]
  },
  {
   "cell_type": "markdown",
   "metadata": {},
   "source": [
    "The best result is reached using the `lr` model with the *augmented* data set. Let's see the cross tab of that model."
   ]
  },
  {
   "cell_type": "code",
   "execution_count": 30,
   "metadata": {},
   "outputs": [
    {
     "data": {
      "text/html": [
       "<div>\n",
       "<style>\n",
       "    .dataframe thead tr:only-child th {\n",
       "        text-align: right;\n",
       "    }\n",
       "\n",
       "    .dataframe thead th {\n",
       "        text-align: left;\n",
       "    }\n",
       "\n",
       "    .dataframe tbody tr th {\n",
       "        vertical-align: top;\n",
       "    }\n",
       "</style>\n",
       "<table border=\"1\" class=\"dataframe\">\n",
       "  <thead>\n",
       "    <tr style=\"text-align: right;\">\n",
       "      <th>Predicted</th>\n",
       "      <th>0</th>\n",
       "      <th>1</th>\n",
       "      <th>2</th>\n",
       "      <th>3</th>\n",
       "    </tr>\n",
       "    <tr>\n",
       "      <th>Actual</th>\n",
       "      <th></th>\n",
       "      <th></th>\n",
       "      <th></th>\n",
       "      <th></th>\n",
       "    </tr>\n",
       "  </thead>\n",
       "  <tbody>\n",
       "    <tr>\n",
       "      <th>0</th>\n",
       "      <td>87</td>\n",
       "      <td>4</td>\n",
       "      <td>16</td>\n",
       "      <td>30</td>\n",
       "    </tr>\n",
       "    <tr>\n",
       "      <th>1</th>\n",
       "      <td>16</td>\n",
       "      <td>155</td>\n",
       "      <td>15</td>\n",
       "      <td>26</td>\n",
       "    </tr>\n",
       "    <tr>\n",
       "      <th>2</th>\n",
       "      <td>30</td>\n",
       "      <td>17</td>\n",
       "      <td>90</td>\n",
       "      <td>38</td>\n",
       "    </tr>\n",
       "    <tr>\n",
       "      <th>3</th>\n",
       "      <td>27</td>\n",
       "      <td>9</td>\n",
       "      <td>28</td>\n",
       "      <td>104</td>\n",
       "    </tr>\n",
       "  </tbody>\n",
       "</table>\n",
       "</div>"
      ],
      "text/plain": [
       "Predicted   0    1   2    3\n",
       "Actual                     \n",
       "0          87    4  16   30\n",
       "1          16  155  15   26\n",
       "2          30   17  90   38\n",
       "3          27    9  28  104"
      ]
     },
     "execution_count": 30,
     "metadata": {},
     "output_type": "execute_result"
    }
   ],
   "source": [
    "label_numeric_dict = {\"nomina\":0, \"dni\":1, \"factura\":2, \"contrato\":3}\n",
    "crosstab_df = pd.crosstab(test_y, pred_lr_test, rownames=[\"Actual\"], colnames=[\"Predicted\"])\n",
    "pd.crosstab(test_y, pred_lr_test, rownames=[\"Actual\"], colnames=[\"Predicted\"])"
   ]
  },
  {
   "cell_type": "code",
   "execution_count": 31,
   "metadata": {
    "collapsed": true
   },
   "outputs": [],
   "source": [
    "prediction = np.diag(crosstab_df)\n",
    "actual_val = np.asarray(crosstab_df.sum(axis=1))"
   ]
  },
  {
   "cell_type": "code",
   "execution_count": 32,
   "metadata": {},
   "outputs": [
    {
     "name": "stdout",
     "output_type": "stream",
     "text": [
      "0.63503649635\n"
     ]
    }
   ],
   "source": [
    "partial_pred = prediction/actual_val\n",
    "print(partial_pred[0])"
   ]
  },
  {
   "cell_type": "code",
   "execution_count": 33,
   "metadata": {},
   "outputs": [
    {
     "name": "stdout",
     "output_type": "stream",
     "text": [
      "0.630057803468\n"
     ]
    }
   ],
   "source": [
    "total_pred = sum(prediction)/sum(actual_val)\n",
    "print(total_pred)"
   ]
  },
  {
   "cell_type": "code",
   "execution_count": 34,
   "metadata": {},
   "outputs": [
    {
     "name": "stdout",
     "output_type": "stream",
     "text": [
      "          documento\n",
      "nomina     0.635036\n",
      "dni        0.731132\n",
      "factura    0.514286\n",
      "contrato   0.619048\n",
      "total      0.630058\n"
     ]
    }
   ],
   "source": [
    "accu_dict = {\"documento\":[partial_pred[0], partial_pred[1],\n",
    "                         partial_pred[2], partial_pred[3],\n",
    "                         total_pred]}\n",
    "\n",
    "accu_df = pd.DataFrame(data = accu_dict, index = [\"nomina\", \"dni\", \"factura\", \n",
    "                                                    \"contrato\", \"total\"],\n",
    "                      columns = [\"documento\"])\n",
    "\n",
    "print(accu_df)"
   ]
  },
  {
   "cell_type": "code",
   "execution_count": 35,
   "metadata": {},
   "outputs": [
    {
     "data": {
      "image/png": "[encoded data removed]",
      "text/plain": [
       "<matplotlib.figure.Figure at 0x7f17d5da4c88>"
      ]
     },
     "metadata": {},
     "output_type": "display_data"
    }
   ],
   "source": [
    "lr_results = accu_df.plot(kind=\"bar\", legend=False, rot=0)\n",
    "lr_results.set_xlabel(\"Documento\")\n",
    "lr_results.set_ylabel(\"Precisión\")\n",
    "lr_results.set_title(\"Precisión por cada Documento: KNN\")\n",
    "plt.savefig(image_path+'analysis_knn.pdf')"
   ]
  },
  {
   "cell_type": "markdown",
   "metadata": {},
   "source": [
    "As you can see, the document beste predicted is the DNI (in aggreement with our dimension reduction analysis). On the other hand, the invoices are the document worst predicted. The global accuracy is ~0.63, which is acceptable taking into account that a random model would have an accuracy of ~0.25"
   ]
  },
  {
   "cell_type": "code",
   "execution_count": null,
   "metadata": {
    "collapsed": true
   },
   "outputs": [],
   "source": []
  }
 ],
 "metadata": {
  "anaconda-cloud": {},
  "kernelspec": {
   "display_name": "Python 3",
   "language": "python",
   "name": "python3"
  },
  "language_info": {
   "codemirror_mode": {
    "name": "ipython",
    "version": 3
   },
   "file_extension": ".py",
   "mimetype": "text/x-python",
   "name": "python",
   "nbconvert_exporter": "python",
   "pygments_lexer": "ipython3",
   "version": "3.6.1"
  }
 },
 "nbformat": 4,
 "nbformat_minor": 1
}
